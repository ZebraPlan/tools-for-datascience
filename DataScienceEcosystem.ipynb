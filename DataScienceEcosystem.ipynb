{
 "cells": [
  {
   "cell_type": "markdown",
   "metadata": {},
   "source": [
    "# Data Science Tools and Ecosystem"
   ]
  },
  {
   "cell_type": "markdown",
   "metadata": {},
   "source": [
    "## Overview\n",
    "This Jupyter Notebook serves as a comprehensive report of the learning outcomes from Week 6 of the \"Tools for Data Science\" course. During this week, we delved into the integration of R programming and Github version control, gaining valuable insights into their combined applications.\n"
   ]
  },
  {
   "cell_type": "markdown",
   "metadata": {},
   "source": [
    "### List of contents\n",
    "\n",
    "- List popular languages for Data Science\n",
    "- List popular libraries for Data Science\n",
    "- List tools for Data Science\n",
    "- Show how pyton expressions work"
   ]
  },
  {
   "cell_type": "markdown",
   "metadata": {},
   "source": [
    "## Programming Languages for Data Science\n",
    "\n",
    "Here are some of the programming languages commonly used in the field of Data Science:\n",
    "\n",
    "1. **Python**: Widely regarded as the primary language for data science, Python offers a vast ecosystem of libraries like NumPy, Pandas, Matplotlib, and Scikit-learn that make tasks like data manipulation, analysis, and machine learning accessible.\n",
    "\n",
    "2. **R**: Known for its statistical capabilities, R provides a rich set of packages like ggplot2, dplyr, and tidyr for data visualization, manipulation, and analysis. It's particularly favored by statisticians and researchers.\n",
    "\n",
    "3. **SQL**: Structured Query Language (SQL) is essential for working with relational databases. It's used for querying and managing data, which is often a fundamental part of data science projects.\n",
    "\n",
    "4. **Julia**: A newer language, Julia combines performance similar to low-level languages with the ease of use of high-level languages. It's gaining popularity for its speed in numerical and scientific computing.\n",
    "\n",
    "5. **Scala**: Often used with Apache Spark, Scala offers functional programming capabilities and is well-suited for distributed and parallel computing in big data applications.\n",
    "\n",
    "6. **MATLAB**: Common in academic and research settings, MATLAB provides tools for numerical computing, data analysis, and visualization.\n",
    "\n",
    "7. **SAS**: Widely used in industries like healthcare and finance, SAS offers advanced analytics, machine learning, and data management tools.\n",
    "\n",
    "8. **Java**: While not as common as Python or R, Java is used in data science for building scalable applications, especially in big data environments.\n",
    "\n",
    "9. **Haskell**: Known for its strong type system, Haskell is gaining traction in data science for its functional programming paradigm.\n",
    "\n",
    "10. **C++**: Similar to Java, C++ is used in data science for building high-performance applications and libraries.\n"
   ]
  },
  {
   "cell_type": "markdown",
   "metadata": {},
   "source": [
    "## Essential Libraries for Data Science\n",
    "\n",
    "Data Science heavily relies on specialized libraries that provide tools, functions, and frameworks to perform various tasks. Here are some essential libraries frequently used in the field:\n",
    "\n",
    "### Python Libraries:\n",
    "1. **NumPy**: Fundamental for numerical operations and multi-dimensional array manipulation.\n",
    "2. **Pandas**: Essential for data manipulation and analysis, providing DataFrame structures.\n",
    "3. **Matplotlib**: Used for creating static, interactive, and animated visualizations.\n",
    "4. **Seaborn**: Built on Matplotlib, Seaborn simplifies creating attractive statistical visualizations.\n",
    "5. **Scikit-learn**: Offers machine learning algorithms for classification, regression, clustering, and more.\n",
    "6. **TensorFlow**: An open-source deep learning framework developed by Google.\n",
    "7. **PyTorch**: Another deep learning library, known for its dynamic computation graph.\n",
    "8. **StatsModels**: Enables statistical modeling and hypothesis testing.\n",
    "\n",
    "### R Libraries:\n",
    "1. **ggplot2**: Known for its elegant and powerful data visualization capabilities.\n",
    "2. **dplyr**: Provides efficient tools for data manipulation and transformation.\n",
    "3. **tidyr**: Used for tidying and reshaping data into a structured format.\n",
    "4. **caret**: A comprehensive toolkit for classification and regression training.\n",
    "5. **randomForest**: Implements random forests, an ensemble learning method.\n",
    "6. **xgboost**: A popular gradient boosting library known for its performance.\n",
    "7. **lubridate**: Simplifies working with date and time data.\n",
    "8. **ROCR**: For visualizing and evaluating the performance of scoring classifiers.\n"
   ]
  },
  {
   "cell_type": "markdown",
   "metadata": {},
   "source": [
    "## Data Science Tools\n",
    "\n",
    "| Data Science Tools  |\n",
    "|---------------------|\n",
    "| Jupyter Notebook    |\n",
    "| RStudio             |\n",
    "| Visual Studio Code  |\n",
    "\n",
    "This table displays three popular open-source tools used in the field of Data Science: Jupyter Notebook, RStudio, and Visual Studio Code."
   ]
  },
  {
   "cell_type": "markdown",
   "metadata": {},
   "source": [
    "### Here are some instances of how arithmetic expressions are evaluated in Python"
   ]
  },
  {
   "cell_type": "code",
   "execution_count": 2,
   "metadata": {},
   "outputs": [
    {
     "data": {
      "text/plain": [
       "17"
      ]
     },
     "execution_count": 2,
     "metadata": {},
     "output_type": "execute_result"
    }
   ],
   "source": [
    "# This is a basic arithmetic expression for multiplying integers and then adding them together.\n",
    "(3*4)+5"
   ]
  },
  {
   "cell_type": "code",
   "execution_count": 3,
   "metadata": {},
   "outputs": [
    {
     "data": {
      "text/plain": [
       "3.3333333333333335"
      ]
     },
     "execution_count": 3,
     "metadata": {},
     "output_type": "execute_result"
    }
   ],
   "source": [
    "# Convert hours to minutes\n",
    "200/60"
   ]
  },
  {
   "cell_type": "markdown",
   "metadata": {},
   "source": [
    "## Autor\n",
    "\n",
    "Alejandro Cuatecontzi Ayala"
   ]
  }
 ],
 "metadata": {
  "kernelspec": {
   "display_name": "Python 3",
   "language": "python",
   "name": "python3"
  },
  "language_info": {
   "codemirror_mode": {
    "name": "ipython",
    "version": 3
   },
   "file_extension": ".py",
   "mimetype": "text/x-python",
   "name": "python",
   "nbconvert_exporter": "python",
   "pygments_lexer": "ipython3",
   "version": "3.11.2"
  },
  "orig_nbformat": 4
 },
 "nbformat": 4,
 "nbformat_minor": 2
}
